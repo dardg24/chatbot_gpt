{
 "cells": [
  {
   "cell_type": "code",
   "execution_count": 1,
   "metadata": {},
   "outputs": [
    {
     "ename": "ModuleNotFoundError",
     "evalue": "No module named 'dotenv'",
     "output_type": "error",
     "traceback": [
      "\u001b[1;31m---------------------------------------------------------------------------\u001b[0m",
      "\u001b[1;31mModuleNotFoundError\u001b[0m                       Traceback (most recent call last)",
      "\u001b[1;32mc:\\Users\\adria\\Desktop\\chatbot_gpt\\Entregas\\app\\borrador.ipynb Cell 1\u001b[0m line \u001b[0;36m1\n\u001b[1;32m----> <a href='vscode-notebook-cell:/c%3A/Users/adria/Desktop/chatbot_gpt/Entregas/app/borrador.ipynb#W0sZmlsZQ%3D%3D?line=0'>1</a>\u001b[0m \u001b[39mfrom\u001b[39;00m \u001b[39mdotenv\u001b[39;00m \u001b[39mimport\u001b[39;00m load_dotenv\n\u001b[0;32m      <a href='vscode-notebook-cell:/c%3A/Users/adria/Desktop/chatbot_gpt/Entregas/app/borrador.ipynb#W0sZmlsZQ%3D%3D?line=1'>2</a>\u001b[0m \u001b[39mimport\u001b[39;00m \u001b[39mos\u001b[39;00m\n\u001b[0;32m      <a href='vscode-notebook-cell:/c%3A/Users/adria/Desktop/chatbot_gpt/Entregas/app/borrador.ipynb#W0sZmlsZQ%3D%3D?line=2'>3</a>\u001b[0m \u001b[39mfrom\u001b[39;00m \u001b[39mlangchain\u001b[39;00m\u001b[39m.\u001b[39;00m\u001b[39mchains\u001b[39;00m \u001b[39mimport\u001b[39;00m AnalyzeDocumentChain\n",
      "\u001b[1;31mModuleNotFoundError\u001b[0m: No module named 'dotenv'"
     ]
    }
   ],
   "source": [
    "#from dotenv import load_dotenv\n",
    "import os\n",
    "from langchain.chains import AnalyzeDocumentChain\n",
    "from langchain.chat_models import ChatOpenAI\n",
    "from langchain.chains.question_answering import load_qa_chain\n",
    "from datetime import datetime\n",
    "import pymysql\n",
    "from pymysql import Error"
   ]
  },
  {
   "cell_type": "code",
   "execution_count": 2,
   "metadata": {},
   "outputs": [],
   "source": [
    "load_dotenv('./var.env')\n",
    "\n",
    "api_key = os.getenv('OPENAI_API_KEY')"
   ]
  },
  {
   "cell_type": "code",
   "execution_count": 3,
   "metadata": {},
   "outputs": [
    {
     "name": "stdout",
     "output_type": "stream",
     "text": [
      "Hugo Chávez, político y militar venezolano, presidente de Venezuela desde 1999 hasta su fallecimiento en 2013.\n"
     ]
    },
    {
     "data": {
      "text/plain": [
       "{'pregunta': 'Who is this guy? give me a resume about his stuff answer me in spanish, no more than 20 words',\n",
       " 'respuesta': 'Hugo Chávez, político y militar venezolano, presidente de Venezuela desde 1999 hasta su fallecimiento en 2013.',\n",
       " 'fecha_hora': '2023-12-17 14:34:48'}"
      ]
     },
     "execution_count": 3,
     "metadata": {},
     "output_type": "execute_result"
    }
   ],
   "source": [
    "llm = ChatOpenAI(model=\"gpt-3.5-turbo\", openai_api_key=api_key)\n",
    "\n",
    "qa_chain = load_qa_chain(llm, chain_type=\"map_reduce\")\n",
    "\n",
    "qa_document_chain = AnalyzeDocumentChain(combine_docs_chain=qa_chain)\n",
    "\n",
    "with open(\"./pregunta.txt\") as f:\n",
    "    file = f.read()\n",
    "\n",
    "# Obtener la fecha y hora actuales\n",
    "fecha_hora_actual = datetime.now()\n",
    "fecha_hora_formateada = fecha_hora_actual.strftime('%Y-%m-%d %H:%M:%S')\n",
    "\n",
    "question=\"Who is this guy? give me a resume about his stuff answer me in spanish, no more than 20 words\"\n",
    "\n",
    "response = qa_document_chain.run(\n",
    "    input_document=file,\n",
    "    question=question,\n",
    ")\n",
    "\n",
    "print(response)\n",
    "\n",
    "# Crear un registro con la pregunta, respuesta y fecha y hora\n",
    "registro = {\n",
    "    \"pregunta\": question,\n",
    "    \"respuesta\": response,\n",
    "    \"fecha_hora\": fecha_hora_formateada\n",
    "}\n",
    "\n",
    "# Imprimir el registro\n",
    "registro"
   ]
  },
  {
   "cell_type": "code",
   "execution_count": 22,
   "metadata": {},
   "outputs": [
    {
     "name": "stdout",
     "output_type": "stream",
     "text": [
      "{'pregunta': 'Who is this guy? give me a resume about his stuff answer me in spanish, no more than 20 words', 'respuesta': 'Hugo Chávez fue un político y militar venezolano, presidente de Venezuela desde 1999 hasta su fallecimiento en 2013.', 'fecha_hora': '2023-12-17 14:47:53'}\n"
     ]
    }
   ],
   "source": [
    "\n",
    "def leer_archivo(ruta_archivo):\n",
    "    try:\n",
    "        with open(ruta_archivo) as f:\n",
    "            return f.read()\n",
    "    except Exception as e:\n",
    "        print(f\"Error al leer el archivo: {e}\")\n",
    "        return None\n",
    "\n",
    "def obtener_fecha_hora_actual():\n",
    "    try:\n",
    "        fecha_hora_actual = datetime.now()\n",
    "        return fecha_hora_actual.strftime('%Y-%m-%d %H:%M:%S')\n",
    "    except Exception as e:\n",
    "        print(f\"Error al obtener la fecha y hora: {e}\")\n",
    "        return None\n",
    "\n",
    "def procesar_documento(api_key, ruta_archivo, question):\n",
    "    try:\n",
    "        llm = ChatOpenAI(model=\"gpt-3.5-turbo\", openai_api_key=api_key)\n",
    "        qa_chain = load_qa_chain(llm, chain_type=\"map_reduce\")\n",
    "        qa_document_chain = AnalyzeDocumentChain(combine_docs_chain=qa_chain)\n",
    "\n",
    "        documento = leer_archivo(ruta_archivo)\n",
    "        if documento is None:\n",
    "            return None\n",
    "\n",
    "        response = qa_document_chain.run(input_document=documento, question=question)\n",
    "        return response\n",
    "    except Exception as e:\n",
    "        print(f\"Error al procesar el documento: {e}\")\n",
    "        return None\n",
    "\n",
    "# Ejemplo de uso\n",
    "ruta_archivo = \"./pregunta.txt\"\n",
    "question = \"Who is this guy? give me a resume about his stuff answer me in spanish, no more than 20 words\"\n",
    "\n",
    "respuesta = procesar_documento(api_key, ruta_archivo, question)\n",
    "fecha_hora_formateada = obtener_fecha_hora_actual()\n",
    "\n",
    "if respuesta is not None and fecha_hora_formateada is not None:\n",
    "    registro = {\n",
    "        \"pregunta\": question,\n",
    "        \"respuesta\": respuesta,\n",
    "        \"fecha_hora\": fecha_hora_formateada\n",
    "    }\n",
    "    print(registro)\n"
   ]
  },
  {
   "cell_type": "markdown",
   "metadata": {},
   "source": [
    "## FUNCIONES"
   ]
  },
  {
   "cell_type": "code",
   "execution_count": 18,
   "metadata": {},
   "outputs": [],
   "source": [
    "\n",
    "\n",
    "def create_server_connection(host_name, user_name, user_password):\n",
    "    connection = None\n",
    "    try:\n",
    "        connection = pymysql.connect(\n",
    "            host=host_name,\n",
    "            user=user_name,\n",
    "            password=user_password\n",
    "        )\n",
    "        print(\"Conexión al servidor de MySQL exitosa\")\n",
    "    except Error as e:\n",
    "        print(f\"El error '{e}' ocurrió\")\n",
    "    return connection\n",
    "\n",
    "def create_db_connection(host_name, user_name, user_password, db_name):\n",
    "    connection = None\n",
    "    try:\n",
    "        connection = pymysql.connect(\n",
    "            host=host_name,\n",
    "            user=user_name,\n",
    "            password=user_password,\n",
    "            database=db_name\n",
    "        )\n",
    "        print(\"Conexión a la base de datos exitosa\")\n",
    "    except Error as e:\n",
    "        print(f\"El error '{e}' ocurrió\")\n",
    "    return connection\n",
    "\n",
    "def execute_query(connection, query):\n",
    "    with connection.cursor() as cursor:\n",
    "        try:\n",
    "            cursor.execute(query)\n",
    "            connection.commit()\n",
    "            print(\"Consulta ejecutada con éxito\")\n",
    "        except Error as e:\n",
    "            print(f\"El error '{e}' ocurrió\")\n",
    "            \n",
    "def create_database(connection, query):\n",
    "    with connection.cursor() as cursor:\n",
    "        try:\n",
    "            cursor.execute(query)\n",
    "            connection.commit()\n",
    "            print(\"Base de datos creada con éxito\")\n",
    "        except Error as e:\n",
    "            print(f\"El error '{e}' ocurrió\")\n",
    "\n",
    "       \n",
    "\n"
   ]
  },
  {
   "cell_type": "markdown",
   "metadata": {},
   "source": [
    "## QUERYS"
   ]
  },
  {
   "cell_type": "code",
   "execution_count": 16,
   "metadata": {},
   "outputs": [],
   "source": [
    "create_database_query = \"CREATE DATABASE IF NOT EXISTS bbdd_gpt\"     \n",
    "\n",
    "create_usuario_table = \"\"\"\n",
    "CREATE TABLE IF NOT EXISTS Usuario (\n",
    "  id_usuario INT AUTO_INCREMENT PRIMARY KEY,\n",
    "  nombre VARCHAR(255) NOT NULL\n",
    ");\n",
    "\"\"\"\n",
    "\n",
    "create_pregunta_table = \"\"\"\n",
    "CREATE TABLE IF NOT EXISTS Pregunta (\n",
    "  id_pregunta INT AUTO_INCREMENT PRIMARY KEY,\n",
    "  id_usuario INT,\n",
    "  fecha_pregunta DATE NOT NULL,\n",
    "  texto_pregunta VARCHAR(255) NOT NULL,\n",
    "  FOREIGN KEY (id_usuario) REFERENCES Usuario(id_usuario)\n",
    ");\n",
    "\"\"\"\n",
    "\n",
    "create_fecha_table = \"\"\"\n",
    "CREATE TABLE IF NOT EXISTS Fecha (\n",
    "  id_fecha INT AUTO_INCREMENT PRIMARY KEY,\n",
    "  id_pregunta INT,\n",
    "  fecha_pregunta DATE NOT NULL,\n",
    "  fecha_respuesta DATE NOT NULL,\n",
    "  FOREIGN KEY (id_pregunta) REFERENCES Pregunta(id_pregunta)\n",
    ");\n",
    "\"\"\"\n",
    "\n",
    "create_respuesta_table = \"\"\"\n",
    "CREATE TABLE IF NOT EXISTS Respuesta (\n",
    "  id_respuesta INT AUTO_INCREMENT PRIMARY KEY,\n",
    "  id_pregunta INT,\n",
    "  texto_respuesta VARCHAR(255) NOT NULL,\n",
    "  id_fecha INT,\n",
    "  FOREIGN KEY (id_pregunta) REFERENCES Pregunta(id_pregunta),\n",
    "  FOREIGN KEY (id_fecha) REFERENCES Fecha(id_fecha)\n",
    ");\n",
    "\"\"\"\n"
   ]
  },
  {
   "cell_type": "code",
   "execution_count": 19,
   "metadata": {},
   "outputs": [
    {
     "name": "stdout",
     "output_type": "stream",
     "text": [
      "Conexión al servidor de MySQL exitosa\n",
      "Base de datos creada con éxito\n",
      "Conexión a la base de datos exitosa\n"
     ]
    }
   ],
   "source": [
    "connection = create_server_connection(\"127.0.0.1\", \"danie\", \"123456\")\n",
    "\n",
    "# Crear la base de datos\n",
    "create_database(connection, create_database_query)\n",
    "\n",
    "# Conectar a la base de datos específica\n",
    "db_connection = create_db_connection(\"127.0.0.1\", \"danie\", \"123456\", \"bbdd_gpt\")\n",
    "connection.close()"
   ]
  },
  {
   "cell_type": "code",
   "execution_count": 21,
   "metadata": {},
   "outputs": [
    {
     "name": "stdout",
     "output_type": "stream",
     "text": [
      "El error '(0, '')' ocurrió\n",
      "El error '(0, '')' ocurrió\n",
      "El error '(0, '')' ocurrió\n",
      "El error '(0, '')' ocurrió\n"
     ]
    }
   ],
   "source": [
    "execute_query(connection, create_usuario_table)\n",
    "execute_query(connection, create_pregunta_table)\n",
    "execute_query(connection, create_fecha_table)\n",
    "execute_query(connection, create_respuesta_table)\n",
    "\n",
    "# # No olvide cerrar la conexión cuando haya terminado\n",
    "# connection.close()"
   ]
  },
  {
   "cell_type": "code",
   "execution_count": null,
   "metadata": {},
   "outputs": [],
   "source": []
  }
 ],
 "metadata": {
  "kernelspec": {
   "display_name": "virtual_env",
   "language": "python",
   "name": "python3"
  },
  "language_info": {
   "codemirror_mode": {
    "name": "ipython",
    "version": 3
   },
   "file_extension": ".py",
   "mimetype": "text/x-python",
   "name": "python",
   "nbconvert_exporter": "python",
   "pygments_lexer": "ipython3",
   "version": "3.11.3"
  }
 },
 "nbformat": 4,
 "nbformat_minor": 2
}
