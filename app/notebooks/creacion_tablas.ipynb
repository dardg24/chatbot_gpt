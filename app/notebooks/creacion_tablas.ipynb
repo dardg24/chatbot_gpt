{
 "cells": [
  {
   "cell_type": "code",
   "execution_count": 1,
   "metadata": {},
   "outputs": [
    {
     "data": {
      "text/plain": [
       "'c:\\\\Users\\\\adria\\\\Desktop\\\\chatbot_gpt\\\\Entregas\\\\app'"
      ]
     },
     "execution_count": 1,
     "metadata": {},
     "output_type": "execute_result"
    }
   ],
   "source": [
    "import pymysql\n",
    "import json\n",
    "import os\n",
    "\n",
    "os.getcwd()"
   ]
  },
  {
   "cell_type": "code",
   "execution_count": 2,
   "metadata": {},
   "outputs": [],
   "source": [
    "with open(\"cred.json\", \"r\") as file:\n",
    "    data = json.load(file)"
   ]
  },
  {
   "cell_type": "code",
   "execution_count": 3,
   "metadata": {},
   "outputs": [
    {
     "ename": "OperationalError",
     "evalue": "(2003, \"Can't connect to MySQL server on 'database-1.cyfw9nhe9phu.eu-north-1.rds.amazonaws.com' (timed out)\")",
     "output_type": "error",
     "traceback": [
      "\u001b[1;31m---------------------------------------------------------------------------\u001b[0m",
      "\u001b[1;31mTimeoutError\u001b[0m                              Traceback (most recent call last)",
      "File \u001b[1;32mc:\\Users\\adria\\AppData\\Local\\Programs\\Python\\Python311\\Lib\\site-packages\\pymysql\\connections.py:644\u001b[0m, in \u001b[0;36mConnection.connect\u001b[1;34m(self, sock)\u001b[0m\n\u001b[0;32m    643\u001b[0m \u001b[39mtry\u001b[39;00m:\n\u001b[1;32m--> 644\u001b[0m     sock \u001b[39m=\u001b[39m socket\u001b[39m.\u001b[39;49mcreate_connection(\n\u001b[0;32m    645\u001b[0m         (\u001b[39mself\u001b[39;49m\u001b[39m.\u001b[39;49mhost, \u001b[39mself\u001b[39;49m\u001b[39m.\u001b[39;49mport), \u001b[39mself\u001b[39;49m\u001b[39m.\u001b[39;49mconnect_timeout, \u001b[39m*\u001b[39;49m\u001b[39m*\u001b[39;49mkwargs\n\u001b[0;32m    646\u001b[0m     )\n\u001b[0;32m    647\u001b[0m     \u001b[39mbreak\u001b[39;00m\n",
      "File \u001b[1;32mc:\\Users\\adria\\AppData\\Local\\Programs\\Python\\Python311\\Lib\\socket.py:851\u001b[0m, in \u001b[0;36mcreate_connection\u001b[1;34m(address, timeout, source_address, all_errors)\u001b[0m\n\u001b[0;32m    850\u001b[0m \u001b[39mif\u001b[39;00m \u001b[39mnot\u001b[39;00m all_errors:\n\u001b[1;32m--> 851\u001b[0m     \u001b[39mraise\u001b[39;00m exceptions[\u001b[39m0\u001b[39m]\n\u001b[0;32m    852\u001b[0m \u001b[39mraise\u001b[39;00m ExceptionGroup(\u001b[39m\"\u001b[39m\u001b[39mcreate_connection failed\u001b[39m\u001b[39m\"\u001b[39m, exceptions)\n",
      "File \u001b[1;32mc:\\Users\\adria\\AppData\\Local\\Programs\\Python\\Python311\\Lib\\socket.py:836\u001b[0m, in \u001b[0;36mcreate_connection\u001b[1;34m(address, timeout, source_address, all_errors)\u001b[0m\n\u001b[0;32m    835\u001b[0m     sock\u001b[39m.\u001b[39mbind(source_address)\n\u001b[1;32m--> 836\u001b[0m sock\u001b[39m.\u001b[39;49mconnect(sa)\n\u001b[0;32m    837\u001b[0m \u001b[39m# Break explicitly a reference cycle\u001b[39;00m\n",
      "\u001b[1;31mTimeoutError\u001b[0m: timed out",
      "\nDuring handling of the above exception, another exception occurred:\n",
      "\u001b[1;31mOperationalError\u001b[0m                          Traceback (most recent call last)",
      "\u001b[1;32mc:\\Users\\adria\\Desktop\\chatbot_gpt\\Entregas\\app\\creacion_tablas.ipynb Cell 3\u001b[0m line \u001b[0;36m5\n\u001b[0;32m      <a href='vscode-notebook-cell:/c%3A/Users/adria/Desktop/chatbot_gpt/Entregas/app/creacion_tablas.ipynb#W2sZmlsZQ%3D%3D?line=2'>3</a>\u001b[0m host \u001b[39m=\u001b[39m data[\u001b[39m\"\u001b[39m\u001b[39mhost\u001b[39m\u001b[39m\"\u001b[39m]\n\u001b[0;32m      <a href='vscode-notebook-cell:/c%3A/Users/adria/Desktop/chatbot_gpt/Entregas/app/creacion_tablas.ipynb#W2sZmlsZQ%3D%3D?line=3'>4</a>\u001b[0m port \u001b[39m=\u001b[39m data[\u001b[39m\"\u001b[39m\u001b[39mport\u001b[39m\u001b[39m\"\u001b[39m]\n\u001b[1;32m----> <a href='vscode-notebook-cell:/c%3A/Users/adria/Desktop/chatbot_gpt/Entregas/app/creacion_tablas.ipynb#W2sZmlsZQ%3D%3D?line=4'>5</a>\u001b[0m db \u001b[39m=\u001b[39m pymysql\u001b[39m.\u001b[39;49mconnect(host \u001b[39m=\u001b[39;49m host,\n\u001b[0;32m      <a href='vscode-notebook-cell:/c%3A/Users/adria/Desktop/chatbot_gpt/Entregas/app/creacion_tablas.ipynb#W2sZmlsZQ%3D%3D?line=5'>6</a>\u001b[0m                      user \u001b[39m=\u001b[39;49m username,\n\u001b[0;32m      <a href='vscode-notebook-cell:/c%3A/Users/adria/Desktop/chatbot_gpt/Entregas/app/creacion_tablas.ipynb#W2sZmlsZQ%3D%3D?line=6'>7</a>\u001b[0m                      password \u001b[39m=\u001b[39;49m password,\n\u001b[0;32m      <a href='vscode-notebook-cell:/c%3A/Users/adria/Desktop/chatbot_gpt/Entregas/app/creacion_tablas.ipynb#W2sZmlsZQ%3D%3D?line=7'>8</a>\u001b[0m                      cursorclass \u001b[39m=\u001b[39;49m pymysql\u001b[39m.\u001b[39;49mcursors\u001b[39m.\u001b[39;49mDictCursor\n\u001b[0;32m      <a href='vscode-notebook-cell:/c%3A/Users/adria/Desktop/chatbot_gpt/Entregas/app/creacion_tablas.ipynb#W2sZmlsZQ%3D%3D?line=8'>9</a>\u001b[0m )\n\u001b[0;32m     <a href='vscode-notebook-cell:/c%3A/Users/adria/Desktop/chatbot_gpt/Entregas/app/creacion_tablas.ipynb#W2sZmlsZQ%3D%3D?line=10'>11</a>\u001b[0m \u001b[39m# El objeto cursor es el que ejecutará las queries y devolverá los resultados\u001b[39;00m\n\u001b[0;32m     <a href='vscode-notebook-cell:/c%3A/Users/adria/Desktop/chatbot_gpt/Entregas/app/creacion_tablas.ipynb#W2sZmlsZQ%3D%3D?line=12'>13</a>\u001b[0m cursor \u001b[39m=\u001b[39m db\u001b[39m.\u001b[39mcursor()\n",
      "File \u001b[1;32mc:\\Users\\adria\\AppData\\Local\\Programs\\Python\\Python311\\Lib\\site-packages\\pymysql\\connections.py:358\u001b[0m, in \u001b[0;36mConnection.__init__\u001b[1;34m(self, user, password, host, database, unix_socket, port, charset, collation, sql_mode, read_default_file, conv, use_unicode, client_flag, cursorclass, init_command, connect_timeout, read_default_group, autocommit, local_infile, max_allowed_packet, defer_connect, auth_plugin_map, read_timeout, write_timeout, bind_address, binary_prefix, program_name, server_public_key, ssl, ssl_ca, ssl_cert, ssl_disabled, ssl_key, ssl_verify_cert, ssl_verify_identity, compress, named_pipe, passwd, db)\u001b[0m\n\u001b[0;32m    356\u001b[0m     \u001b[39mself\u001b[39m\u001b[39m.\u001b[39m_sock \u001b[39m=\u001b[39m \u001b[39mNone\u001b[39;00m\n\u001b[0;32m    357\u001b[0m \u001b[39melse\u001b[39;00m:\n\u001b[1;32m--> 358\u001b[0m     \u001b[39mself\u001b[39;49m\u001b[39m.\u001b[39;49mconnect()\n",
      "File \u001b[1;32mc:\\Users\\adria\\AppData\\Local\\Programs\\Python\\Python311\\Lib\\site-packages\\pymysql\\connections.py:711\u001b[0m, in \u001b[0;36mConnection.connect\u001b[1;34m(self, sock)\u001b[0m\n\u001b[0;32m    709\u001b[0m     \u001b[39mif\u001b[39;00m DEBUG:\n\u001b[0;32m    710\u001b[0m         \u001b[39mprint\u001b[39m(exc\u001b[39m.\u001b[39mtraceback)\n\u001b[1;32m--> 711\u001b[0m     \u001b[39mraise\u001b[39;00m exc\n\u001b[0;32m    713\u001b[0m \u001b[39m# If e is neither DatabaseError or IOError, It's a bug.\u001b[39;00m\n\u001b[0;32m    714\u001b[0m \u001b[39m# But raising AssertionError hides original error.\u001b[39;00m\n\u001b[0;32m    715\u001b[0m \u001b[39m# So just reraise it.\u001b[39;00m\n\u001b[0;32m    716\u001b[0m \u001b[39mraise\u001b[39;00m\n",
      "\u001b[1;31mOperationalError\u001b[0m: (2003, \"Can't connect to MySQL server on 'database-1.cyfw9nhe9phu.eu-north-1.rds.amazonaws.com' (timed out)\")"
     ]
    }
   ],
   "source": [
    "username = data[\"username\"]\n",
    "password = data[\"password\"]\n",
    "host = data[\"host\"]\n",
    "port = data[\"port\"]\n",
    "db = pymysql.connect(host = host,\n",
    "                     user = username,\n",
    "                     password = password,\n",
    "                     cursorclass = pymysql.cursors.DictCursor\n",
    ")\n",
    "\n",
    "# El objeto cursor es el que ejecutará las queries y devolverá los resultados\n",
    "\n",
    "cursor = db.cursor()"
   ]
  },
  {
   "cell_type": "code",
   "execution_count": null,
   "metadata": {},
   "outputs": [],
   "source": [
    "create_db = '''CREATE DATABASE bbdd_gpt'''\n",
    "cursor.execute(create_db)"
   ]
  },
  {
   "cell_type": "code",
   "execution_count": 18,
   "metadata": {},
   "outputs": [
    {
     "data": {
      "text/plain": [
       "[{'Database': 'bbdd_gpt'},\n",
       " {'Database': 'information_schema'},\n",
       " {'Database': 'mysql'},\n",
       " {'Database': 'performance_schema'},\n",
       " {'Database': 'sys'}]"
      ]
     },
     "execution_count": 18,
     "metadata": {},
     "output_type": "execute_result"
    }
   ],
   "source": [
    "cursor.execute('SHOW DATABASES')\n",
    "cursor.fetchall()"
   ]
  },
  {
   "cell_type": "code",
   "execution_count": 19,
   "metadata": {},
   "outputs": [
    {
     "data": {
      "text/plain": [
       "0"
      ]
     },
     "execution_count": 19,
     "metadata": {},
     "output_type": "execute_result"
    }
   ],
   "source": [
    "# Para usar la BD  recien creada\n",
    "\n",
    "cursor.connection.commit()\n",
    "use_db = ''' USE bbdd_gpt'''\n",
    "cursor.execute(use_db)"
   ]
  },
  {
   "cell_type": "code",
   "execution_count": 11,
   "metadata": {},
   "outputs": [],
   "source": [
    "create_usuario_table = \"\"\"\n",
    "CREATE TABLE IF NOT EXISTS Usuario (\n",
    "  id_usuario INT AUTO_INCREMENT PRIMARY KEY,\n",
    "  nombre VARCHAR(255) NOT NULL\n",
    ");\n",
    "\"\"\"\n",
    "\n",
    "create_pregunta_table = \"\"\"\n",
    "CREATE TABLE IF NOT EXISTS Pregunta (\n",
    "  id_pregunta INT AUTO_INCREMENT PRIMARY KEY,\n",
    "  id_usuario INT,\n",
    "  fecha_pregunta DATE NOT NULL,\n",
    "  texto_pregunta VARCHAR(255) NOT NULL,\n",
    "  texto_respuesta VARCHAR(255) NOT NULL,\n",
    "  FOREIGN KEY (id_usuario) REFERENCES Usuario(id_usuario)\n",
    ");\n",
    "\"\"\"\n",
    "\n",
    "create_fecha_table = \"\"\"\n",
    "CREATE TABLE IF NOT EXISTS Fecha (\n",
    "  id_fecha INT AUTO_INCREMENT PRIMARY KEY,\n",
    "  id_pregunta INT,\n",
    "  fecha_pregunta DATE NOT NULL,\n",
    "  fecha_respuesta DATE NOT NULL,\n",
    "  FOREIGN KEY (id_pregunta) REFERENCES Pregunta(id_pregunta)\n",
    ");\n",
    "\"\"\"\n",
    "\n",
    "create_respuesta_table = \"\"\"\n",
    "CREATE TABLE IF NOT EXISTS Respuesta (\n",
    "  id_respuesta INT AUTO_INCREMENT PRIMARY KEY,\n",
    "  id_pregunta INT,\n",
    "  texto_respuesta VARCHAR(255) NOT NULL,\n",
    "  id_fecha INT,\n",
    "  FOREIGN KEY (id_pregunta) REFERENCES Pregunta(id_pregunta),\n",
    "  FOREIGN KEY (id_fecha) REFERENCES Fecha(id_fecha)\n",
    ");\n",
    "\"\"\"\n"
   ]
  },
  {
   "cell_type": "code",
   "execution_count": 21,
   "metadata": {},
   "outputs": [],
   "source": [
    "cursor.execute(create_usuario_table)\n",
    "cursor.execute(create_pregunta_table)\n",
    "cursor.execute(create_fecha_table)\n",
    "cursor.execute(create_respuesta_table)\n",
    "\n",
    "cursor.connection.commit()\n",
    "# No olvide cerrar la conexión cuando haya terminado\n",
    "cursor.close()"
   ]
  },
  {
   "cell_type": "code",
   "execution_count": 25,
   "metadata": {},
   "outputs": [],
   "source": [
    "cursor = db.cursor()\n",
    "cursor.connection.commit()\n",
    "use_db = ''' USE bbdd_gpt'''\n",
    "cursor.execute(use_db)\n",
    "cursor.execute('''select * from Respuesta''')\n",
    "cursor.fetchall()\n",
    "cursor.close()"
   ]
  }
 ],
 "metadata": {
  "kernelspec": {
   "display_name": "Python 3",
   "language": "python",
   "name": "python3"
  },
  "language_info": {
   "codemirror_mode": {
    "name": "ipython",
    "version": 3
   },
   "file_extension": ".py",
   "mimetype": "text/x-python",
   "name": "python",
   "nbconvert_exporter": "python",
   "pygments_lexer": "ipython3",
   "version": "3.11.3"
  }
 },
 "nbformat": 4,
 "nbformat_minor": 2
}
